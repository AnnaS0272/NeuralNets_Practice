{
 "cells": [
  {
   "cell_type": "code",
   "execution_count": 2,
   "metadata": {},
   "outputs": [],
   "source": [
    "# Import our dependencies\n",
    "import pandas as pd\n",
    "import matplotlib as plt\n",
    "from sklearn.datasets import make_blobs\n",
    "import sklearn as skl\n",
    "import tensorflow as tf"
   ]
  },
  {
   "cell_type": "code",
   "execution_count": 3,
   "metadata": {},
   "outputs": [
    {
     "data": {
      "text/plain": [
       "<matplotlib.axes._subplots.AxesSubplot at 0x7fb09c77ead0>"
      ]
     },
     "execution_count": 3,
     "metadata": {},
     "output_type": "execute_result"
    },
    {
     "data": {
      "image/png": "[encoded data removed]",
      "text/plain": [
       "<Figure size 432x288 with 2 Axes>"
      ]
     },
     "metadata": {
      "needs_background": "light"
     },
     "output_type": "display_data"
    }
   ],
   "source": [
    "# Generate dummy dataset\n",
    "X, y = make_blobs(n_samples=1000, centers=2, n_features=2, random_state=78)\n",
    "\n",
    "# Creating a DataFrame with the dummy data\n",
    "df = pd.DataFrame(X, columns=[\"Feature 1\", \"Feature 2\"])\n",
    "df[\"Target\"] = y\n",
    "\n",
    "# Plotting the dummy data\n",
    "df.plot.scatter(x=\"Feature 1\", y=\"Feature 2\", c=\"Target\", colormap=\"winter\")"
   ]
  },
  {
   "cell_type": "code",
   "execution_count": 4,
   "metadata": {},
   "outputs": [],
   "source": [
    "# Use sklearn to split dataset\n",
    "from sklearn.model_selection import train_test_split\n",
    "X_train, X_test, y_train, y_test = train_test_split(X, y, random_state=78)"
   ]
  },
  {
   "cell_type": "code",
   "execution_count": 5,
   "metadata": {},
   "outputs": [],
   "source": [
    "# Create scaler instance\n",
    "X_scaler = skl.preprocessing.StandardScaler()\n",
    "\n",
    "# Fit the scaler\n",
    "X_scaler.fit(X_train)\n",
    "\n",
    "# Scale the data\n",
    "X_train_scaled = X_scaler.transform(X_train)\n",
    "X_test_scaled = X_scaler.transform(X_test)"
   ]
  },
  {
   "cell_type": "code",
   "execution_count": 6,
   "metadata": {},
   "outputs": [],
   "source": [
    "# Create the Keras Sequential model\n",
    "nn_model = tf.keras.models.Sequential()"
   ]
  },
  {
   "cell_type": "code",
   "execution_count": 7,
   "metadata": {},
   "outputs": [],
   "source": [
    "# Add our first Dense layer, including the input layer\n",
    "nn_model.add(tf.keras.layers.Dense(units=1, activation=\"relu\", input_dim=2))"
   ]
  },
  {
   "cell_type": "code",
   "execution_count": 8,
   "metadata": {},
   "outputs": [],
   "source": [
    "# Add the output layer that uses a probability activation function\n",
    "nn_model.add(tf.keras.layers.Dense(units=1, activation=\"sigmoid\"))"
   ]
  },
  {
   "cell_type": "code",
   "execution_count": 9,
   "metadata": {},
   "outputs": [
    {
     "name": "stdout",
     "output_type": "stream",
     "text": [
      "Model: \"sequential\"\n",
      "_________________________________________________________________\n",
      "Layer (type)                 Output Shape              Param #   \n",
      "=================================================================\n",
      "dense (Dense)                (None, 1)                 3         \n",
      "_________________________________________________________________\n",
      "dense_1 (Dense)              (None, 1)                 2         \n",
      "=================================================================\n",
      "Total params: 5\n",
      "Trainable params: 5\n",
      "Non-trainable params: 0\n",
      "_________________________________________________________________\n"
     ]
    }
   ],
   "source": [
    "# Check the structure of the Sequential model\n",
    "nn_model.summary()"
   ]
  },
  {
   "cell_type": "code",
   "execution_count": 10,
   "metadata": {},
   "outputs": [],
   "source": [
    "# Compile the Sequential model together and customize metrics\n",
    "nn_model.compile(loss=\"binary_crossentropy\", optimizer=\"adam\", metrics=[\"accuracy\"])"
   ]
  },
  {
   "cell_type": "code",
   "execution_count": 11,
   "metadata": {},
   "outputs": [
    {
     "name": "stdout",
     "output_type": "stream",
     "text": [
      "Train on 750 samples\n",
      "Epoch 1/100\n",
      "750/750 [==============================] - 1s 2ms/sample - loss: 0.8066 - accuracy: 0.1040\n",
      "Epoch 2/100\n",
      "750/750 [==============================] - 0s 64us/sample - loss: 0.7739 - accuracy: 0.0787\n",
      "Epoch 3/100\n",
      "750/750 [==============================] - 0s 64us/sample - loss: 0.7474 - accuracy: 0.1280\n",
      "Epoch 4/100\n",
      "750/750 [==============================] - 0s 64us/sample - loss: 0.7257 - accuracy: 0.2067\n",
      "Epoch 5/100\n",
      "750/750 [==============================] - 0s 66us/sample - loss: 0.7108 - accuracy: 0.2813\n",
      "Epoch 6/100\n",
      "750/750 [==============================] - 0s 65us/sample - loss: 0.7013 - accuracy: 0.3733\n",
      "Epoch 7/100\n",
      "750/750 [==============================] - 0s 65us/sample - loss: 0.6965 - accuracy: 0.4440\n",
      "Epoch 8/100\n",
      "750/750 [==============================] - 0s 65us/sample - loss: 0.6945 - accuracy: 0.4813\n",
      "Epoch 9/100\n",
      "750/750 [==============================] - 0s 77us/sample - loss: 0.6938 - accuracy: 0.4960\n",
      "Epoch 10/100\n",
      "750/750 [==============================] - 0s 65us/sample - loss: 0.6935 - accuracy: 0.4987\n",
      "Epoch 11/100\n",
      "750/750 [==============================] - 0s 65us/sample - loss: 0.6933 - accuracy: 0.5027\n",
      "Epoch 12/100\n",
      "750/750 [==============================] - 0s 64us/sample - loss: 0.6933 - accuracy: 0.5040\n",
      "Epoch 13/100\n",
      "750/750 [==============================] - 0s 66us/sample - loss: 0.6932 - accuracy: 0.5053\n",
      "Epoch 14/100\n",
      "750/750 [==============================] - 0s 66us/sample - loss: 0.6932 - accuracy: 0.5053\n",
      "Epoch 15/100\n",
      "750/750 [==============================] - 0s 67us/sample - loss: 0.6931 - accuracy: 0.5067\n",
      "Epoch 16/100\n",
      "750/750 [==============================] - 0s 65us/sample - loss: 0.6931 - accuracy: 0.5067\n",
      "Epoch 17/100\n",
      "750/750 [==============================] - 0s 66us/sample - loss: 0.6931 - accuracy: 0.5067\n",
      "Epoch 18/100\n",
      "750/750 [==============================] - 0s 62us/sample - loss: 0.6931 - accuracy: 0.5067\n",
      "Epoch 19/100\n",
      "750/750 [==============================] - 0s 65us/sample - loss: 0.6931 - accuracy: 0.5067\n",
      "Epoch 20/100\n",
      "750/750 [==============================] - 0s 66us/sample - loss: 0.6931 - accuracy: 0.5067\n",
      "Epoch 21/100\n",
      "750/750 [==============================] - 0s 62us/sample - loss: 0.6930 - accuracy: 0.5067\n",
      "Epoch 22/100\n",
      "750/750 [==============================] - 0s 66us/sample - loss: 0.6930 - accuracy: 0.5067\n",
      "Epoch 23/100\n",
      "750/750 [==============================] - 0s 62us/sample - loss: 0.6930 - accuracy: 0.5080\n",
      "Epoch 24/100\n",
      "750/750 [==============================] - 0s 69us/sample - loss: 0.6930 - accuracy: 0.5093\n",
      "Epoch 25/100\n",
      "750/750 [==============================] - 0s 69us/sample - loss: 0.6929 - accuracy: 0.5093\n",
      "Epoch 26/100\n",
      "750/750 [==============================] - 0s 66us/sample - loss: 0.6929 - accuracy: 0.5120\n",
      "Epoch 27/100\n",
      "750/750 [==============================] - 0s 68us/sample - loss: 0.6928 - accuracy: 0.5133\n",
      "Epoch 28/100\n",
      "750/750 [==============================] - 0s 66us/sample - loss: 0.6927 - accuracy: 0.5200\n",
      "Epoch 29/100\n",
      "750/750 [==============================] - 0s 66us/sample - loss: 0.6925 - accuracy: 0.5240\n",
      "Epoch 30/100\n",
      "750/750 [==============================] - 0s 66us/sample - loss: 0.6921 - accuracy: 0.5333\n",
      "Epoch 31/100\n",
      "750/750 [==============================] - 0s 63us/sample - loss: 0.6916 - accuracy: 0.5427\n",
      "Epoch 32/100\n",
      "750/750 [==============================] - 0s 64us/sample - loss: 0.6907 - accuracy: 0.5573\n",
      "Epoch 33/100\n",
      "750/750 [==============================] - 0s 64us/sample - loss: 0.6884 - accuracy: 0.5947\n",
      "Epoch 34/100\n",
      "750/750 [==============================] - 0s 62us/sample - loss: 0.6811 - accuracy: 0.7120\n",
      "Epoch 35/100\n",
      "750/750 [==============================] - 0s 63us/sample - loss: 0.6561 - accuracy: 0.9320\n",
      "Epoch 36/100\n",
      "750/750 [==============================] - 0s 63us/sample - loss: 0.6066 - accuracy: 1.0000\n",
      "Epoch 37/100\n",
      "750/750 [==============================] - 0s 67us/sample - loss: 0.5598 - accuracy: 1.0000\n",
      "Epoch 38/100\n",
      "750/750 [==============================] - 0s 66us/sample - loss: 0.5199 - accuracy: 1.0000\n",
      "Epoch 39/100\n",
      "750/750 [==============================] - 0s 65us/sample - loss: 0.4867 - accuracy: 1.0000\n",
      "Epoch 40/100\n",
      "750/750 [==============================] - 0s 64us/sample - loss: 0.4580 - accuracy: 1.0000\n",
      "Epoch 41/100\n",
      "750/750 [==============================] - 0s 68us/sample - loss: 0.4333 - accuracy: 1.0000\n",
      "Epoch 42/100\n",
      "750/750 [==============================] - 0s 64us/sample - loss: 0.4117 - accuracy: 1.0000\n",
      "Epoch 43/100\n",
      "750/750 [==============================] - 0s 66us/sample - loss: 0.3924 - accuracy: 0.9987\n",
      "Epoch 44/100\n",
      "750/750 [==============================] - 0s 67us/sample - loss: 0.3752 - accuracy: 0.9987\n",
      "Epoch 45/100\n",
      "750/750 [==============================] - 0s 62us/sample - loss: 0.3597 - accuracy: 0.9987\n",
      "Epoch 46/100\n",
      "750/750 [==============================] - 0s 67us/sample - loss: 0.3456 - accuracy: 0.9987\n",
      "Epoch 47/100\n",
      "750/750 [==============================] - 0s 65us/sample - loss: 0.3327 - accuracy: 0.9987\n",
      "Epoch 48/100\n",
      "750/750 [==============================] - 0s 64us/sample - loss: 0.3208 - accuracy: 0.9987\n",
      "Epoch 49/100\n",
      "750/750 [==============================] - 0s 64us/sample - loss: 0.3098 - accuracy: 0.9987\n",
      "Epoch 50/100\n",
      "750/750 [==============================] - 0s 65us/sample - loss: 0.2996 - accuracy: 0.9987\n",
      "Epoch 51/100\n",
      "750/750 [==============================] - 0s 64us/sample - loss: 0.2900 - accuracy: 0.9987\n",
      "Epoch 52/100\n",
      "750/750 [==============================] - 0s 65us/sample - loss: 0.2810 - accuracy: 0.9987\n",
      "Epoch 53/100\n",
      "750/750 [==============================] - 0s 64us/sample - loss: 0.2726 - accuracy: 0.9987\n",
      "Epoch 54/100\n",
      "750/750 [==============================] - 0s 63us/sample - loss: 0.2646 - accuracy: 0.9987\n",
      "Epoch 55/100\n",
      "750/750 [==============================] - 0s 62us/sample - loss: 0.2572 - accuracy: 0.9987\n",
      "Epoch 56/100\n",
      "750/750 [==============================] - 0s 68us/sample - loss: 0.2500 - accuracy: 0.9987\n",
      "Epoch 57/100\n",
      "750/750 [==============================] - 0s 65us/sample - loss: 0.2433 - accuracy: 0.9987\n",
      "Epoch 58/100\n",
      "750/750 [==============================] - 0s 62us/sample - loss: 0.2369 - accuracy: 0.9987\n",
      "Epoch 59/100\n",
      "750/750 [==============================] - 0s 68us/sample - loss: 0.2308 - accuracy: 0.9987\n",
      "Epoch 60/100\n",
      "750/750 [==============================] - 0s 64us/sample - loss: 0.2249 - accuracy: 0.9987\n",
      "Epoch 61/100\n",
      "750/750 [==============================] - 0s 62us/sample - loss: 0.2194 - accuracy: 0.9987\n",
      "Epoch 62/100\n",
      "750/750 [==============================] - 0s 66us/sample - loss: 0.2140 - accuracy: 1.0000\n",
      "Epoch 63/100\n",
      "750/750 [==============================] - 0s 67us/sample - loss: 0.2089 - accuracy: 1.0000\n",
      "Epoch 64/100\n",
      "750/750 [==============================] - 0s 65us/sample - loss: 0.2041 - accuracy: 1.0000\n",
      "Epoch 65/100\n",
      "750/750 [==============================] - 0s 67us/sample - loss: 0.1993 - accuracy: 1.0000\n",
      "Epoch 66/100\n",
      "750/750 [==============================] - 0s 62us/sample - loss: 0.1948 - accuracy: 1.0000\n",
      "Epoch 67/100\n",
      "750/750 [==============================] - 0s 62us/sample - loss: 0.1904 - accuracy: 1.0000\n",
      "Epoch 68/100\n",
      "750/750 [==============================] - 0s 63us/sample - loss: 0.1862 - accuracy: 1.0000\n",
      "Epoch 69/100\n",
      "750/750 [==============================] - 0s 67us/sample - loss: 0.1822 - accuracy: 1.0000\n",
      "Epoch 70/100\n",
      "750/750 [==============================] - 0s 65us/sample - loss: 0.1782 - accuracy: 1.0000\n",
      "Epoch 71/100\n",
      "750/750 [==============================] - 0s 69us/sample - loss: 0.1745 - accuracy: 1.0000\n",
      "Epoch 72/100\n",
      "750/750 [==============================] - 0s 65us/sample - loss: 0.1708 - accuracy: 1.0000\n",
      "Epoch 73/100\n",
      "750/750 [==============================] - 0s 65us/sample - loss: 0.1672 - accuracy: 1.0000\n",
      "Epoch 74/100\n",
      "750/750 [==============================] - 0s 63us/sample - loss: 0.1638 - accuracy: 1.0000\n",
      "Epoch 75/100\n",
      "750/750 [==============================] - 0s 65us/sample - loss: 0.1605 - accuracy: 1.0000\n",
      "Epoch 76/100\n",
      "750/750 [==============================] - 0s 66us/sample - loss: 0.1573 - accuracy: 1.0000\n",
      "Epoch 77/100\n",
      "750/750 [==============================] - 0s 63us/sample - loss: 0.1542 - accuracy: 1.0000\n",
      "Epoch 78/100\n"
     ]
    },
    {
     "name": "stdout",
     "output_type": "stream",
     "text": [
      "750/750 [==============================] - 0s 64us/sample - loss: 0.1512 - accuracy: 1.0000\n",
      "Epoch 79/100\n",
      "750/750 [==============================] - 0s 67us/sample - loss: 0.1483 - accuracy: 1.0000\n",
      "Epoch 80/100\n",
      "750/750 [==============================] - 0s 65us/sample - loss: 0.1454 - accuracy: 1.0000\n",
      "Epoch 81/100\n",
      "750/750 [==============================] - 0s 66us/sample - loss: 0.1427 - accuracy: 1.0000\n",
      "Epoch 82/100\n",
      "750/750 [==============================] - 0s 67us/sample - loss: 0.1400 - accuracy: 1.0000\n",
      "Epoch 83/100\n",
      "750/750 [==============================] - 0s 68us/sample - loss: 0.1374 - accuracy: 1.0000\n",
      "Epoch 84/100\n",
      "750/750 [==============================] - 0s 66us/sample - loss: 0.1349 - accuracy: 1.0000\n",
      "Epoch 85/100\n",
      "750/750 [==============================] - 0s 68us/sample - loss: 0.1325 - accuracy: 1.0000\n",
      "Epoch 86/100\n",
      "750/750 [==============================] - 0s 66us/sample - loss: 0.1301 - accuracy: 1.0000\n",
      "Epoch 87/100\n",
      "750/750 [==============================] - 0s 68us/sample - loss: 0.1277 - accuracy: 1.0000\n",
      "Epoch 88/100\n",
      "750/750 [==============================] - 0s 67us/sample - loss: 0.1255 - accuracy: 1.0000\n",
      "Epoch 89/100\n",
      "750/750 [==============================] - 0s 67us/sample - loss: 0.1232 - accuracy: 1.0000\n",
      "Epoch 90/100\n",
      "750/750 [==============================] - 0s 65us/sample - loss: 0.1211 - accuracy: 1.0000\n",
      "Epoch 91/100\n",
      "750/750 [==============================] - 0s 65us/sample - loss: 0.1190 - accuracy: 1.0000\n",
      "Epoch 92/100\n",
      "750/750 [==============================] - 0s 67us/sample - loss: 0.1169 - accuracy: 1.0000\n",
      "Epoch 93/100\n",
      "750/750 [==============================] - 0s 66us/sample - loss: 0.1149 - accuracy: 1.0000\n",
      "Epoch 94/100\n",
      "750/750 [==============================] - 0s 68us/sample - loss: 0.1130 - accuracy: 1.0000\n",
      "Epoch 95/100\n",
      "750/750 [==============================] - 0s 66us/sample - loss: 0.1111 - accuracy: 1.0000\n",
      "Epoch 96/100\n",
      "750/750 [==============================] - 0s 66us/sample - loss: 0.1092 - accuracy: 1.0000\n",
      "Epoch 97/100\n",
      "750/750 [==============================] - 0s 66us/sample - loss: 0.1074 - accuracy: 1.0000\n",
      "Epoch 98/100\n",
      "750/750 [==============================] - 0s 68us/sample - loss: 0.1056 - accuracy: 1.0000\n",
      "Epoch 99/100\n",
      "750/750 [==============================] - 0s 64us/sample - loss: 0.1039 - accuracy: 1.0000\n",
      "Epoch 100/100\n",
      "750/750 [==============================] - 0s 63us/sample - loss: 0.1022 - accuracy: 1.0000\n"
     ]
    }
   ],
   "source": [
    "# Fit the model to the training data\n",
    "fit_model = nn_model.fit(X_train_scaled, y_train, epochs=100)"
   ]
  },
  {
   "cell_type": "code",
   "execution_count": 12,
   "metadata": {},
   "outputs": [
    {
     "data": {
      "text/plain": [
       "<matplotlib.axes._subplots.AxesSubplot at 0x7fb09d762810>"
      ]
     },
     "execution_count": 12,
     "metadata": {},
     "output_type": "execute_result"
    },
    {
     "data": {
      "image/png": "[encoded data removed]",
      "text/plain": [
       "<Figure size 432x288 with 1 Axes>"
      ]
     },
     "metadata": {
      "needs_background": "light"
     },
     "output_type": "display_data"
    }
   ],
   "source": [
    "# Create a DataFrame containing training history\n",
    "history_df = pd.DataFrame(fit_model.history, index=range(1,len(fit_model.history[\"loss\"])+1))\n",
    "\n",
    "# Plot the loss\n",
    "history_df.plot(y=\"loss\")"
   ]
  },
  {
   "cell_type": "code",
   "execution_count": 13,
   "metadata": {},
   "outputs": [
    {
     "data": {
      "text/plain": [
       "<matplotlib.axes._subplots.AxesSubplot at 0x7fb07e448110>"
      ]
     },
     "execution_count": 13,
     "metadata": {},
     "output_type": "execute_result"
    },
    {
     "data": {
      "image/png": "[encoded data removed]",
      "text/plain": [
       "<Figure size 432x288 with 1 Axes>"
      ]
     },
     "metadata": {
      "needs_background": "light"
     },
     "output_type": "display_data"
    }
   ],
   "source": [
    "# Plot the accuracy\n",
    "history_df.plot(y=\"accuracy\")"
   ]
  },
  {
   "cell_type": "code",
   "execution_count": 14,
   "metadata": {},
   "outputs": [
    {
     "name": "stdout",
     "output_type": "stream",
     "text": [
      "250/1 - 0s - loss: 0.1067 - accuracy: 1.0000\n",
      "Loss: 0.09570599138736725, Accuracy: 1.0\n"
     ]
    }
   ],
   "source": [
    "# Evaluate the model using the test data\n",
    "model_loss, model_accuracy = nn_model.evaluate(X_test_scaled,y_test,verbose=2)\n",
    "print(f\"Loss: {model_loss}, Accuracy: {model_accuracy}\")"
   ]
  },
  {
   "cell_type": "code",
   "execution_count": 15,
   "metadata": {},
   "outputs": [
    {
     "data": {
      "text/plain": [
       "array([[0],\n",
       "       [1],\n",
       "       [0],\n",
       "       [1],\n",
       "       [0],\n",
       "       [0],\n",
       "       [1],\n",
       "       [1],\n",
       "       [1],\n",
       "       [0]], dtype=int32)"
      ]
     },
     "execution_count": 15,
     "metadata": {},
     "output_type": "execute_result"
    }
   ],
   "source": [
    "# Predict the classification of a new set of blob data\n",
    "new_X, new_Y = make_blobs(n_samples=10, centers=2, n_features=2, random_state=78)\n",
    "new_X_scaled = X_scaler.transform(new_X)\n",
    "nn_model.predict_classes(new_X_scaled)"
   ]
  },
  {
   "cell_type": "code",
   "execution_count": null,
   "metadata": {},
   "outputs": [],
   "source": []
  }
 ],
 "metadata": {
  "kernelspec": {
   "display_name": "mlenv",
   "language": "python",
   "name": "mlenv"
  },
  "language_info": {
   "codemirror_mode": {
    "name": "ipython",
    "version": 3
   },
   "file_extension": ".py",
   "mimetype": "text/x-python",
   "name": "python",
   "nbconvert_exporter": "python",
   "pygments_lexer": "ipython3",
   "version": "3.7.7"
  }
 },
 "nbformat": 4,
 "nbformat_minor": 4
}
